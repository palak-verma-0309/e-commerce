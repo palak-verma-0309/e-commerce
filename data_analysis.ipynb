{
 "cells": [
  {
   "cell_type": "markdown",
   "id": "717c797f",
   "metadata": {},
   "source": [
    " E-commerce Data Analysis"
   ]
  },
  {
   "cell_type": "code",
   "execution_count": 2,
   "id": "ab1168e0",
   "metadata": {},
   "outputs": [],
   "source": [
    "import pandas as pd\n",
    "import numpy as np\n",
    "import matplotlib.pyplot as plt\n",
    "from matplotlib.dates import DateFormatter\n",
    "import seaborn as sns"
   ]
  },
  {
   "cell_type": "code",
   "execution_count": 4,
   "id": "d3e303f6",
   "metadata": {},
   "outputs": [
    {
     "name": "stdout",
     "output_type": "stream",
     "text": [
      "shape: (51290, 16)\n"
     ]
    },
    {
     "data": {
      "text/plain": [
       "['Order_Date',\n",
       " 'Time',\n",
       " 'Aging',\n",
       " 'Customer_Id',\n",
       " 'Gender',\n",
       " 'Device_Type',\n",
       " 'Customer_Login_type',\n",
       " 'Product_Category',\n",
       " 'Product',\n",
       " 'Sales',\n",
       " 'Quantity',\n",
       " 'Discount',\n",
       " 'Profit',\n",
       " 'Shipping_Cost',\n",
       " 'Order_Priority',\n",
       " 'Payment_method']"
      ]
     },
     "metadata": {},
     "output_type": "display_data"
    }
   ],
   "source": [
    "df = pd.read_csv(\"E-commerce Dataset.csv\")\n",
    "print(\"shape:\", df.shape)\n",
    "display(df.columns.tolist())"
   ]
  },
  {
   "cell_type": "markdown",
   "id": "a06f40a6",
   "metadata": {},
   "source": [
    "Check data type\n"
   ]
  },
  {
   "cell_type": "code",
   "execution_count": 5,
   "id": "404e4223",
   "metadata": {},
   "outputs": [
    {
     "name": "stdout",
     "output_type": "stream",
     "text": [
      "<class 'pandas.core.frame.DataFrame'>\n",
      "RangeIndex: 51290 entries, 0 to 51289\n",
      "Data columns (total 16 columns):\n",
      " #   Column               Non-Null Count  Dtype  \n",
      "---  ------               --------------  -----  \n",
      " 0   Order_Date           51290 non-null  object \n",
      " 1   Time                 51290 non-null  object \n",
      " 2   Aging                51289 non-null  float64\n",
      " 3   Customer_Id          51290 non-null  int64  \n",
      " 4   Gender               51290 non-null  object \n",
      " 5   Device_Type          51290 non-null  object \n",
      " 6   Customer_Login_type  51290 non-null  object \n",
      " 7   Product_Category     51290 non-null  object \n",
      " 8   Product              51290 non-null  object \n",
      " 9   Sales                51289 non-null  float64\n",
      " 10  Quantity             51288 non-null  float64\n",
      " 11  Discount             51289 non-null  float64\n",
      " 12  Profit               51290 non-null  float64\n",
      " 13  Shipping_Cost        51289 non-null  float64\n",
      " 14  Order_Priority       51288 non-null  object \n",
      " 15  Payment_method       51290 non-null  object \n",
      "dtypes: float64(6), int64(1), object(9)\n",
      "memory usage: 6.3+ MB\n"
     ]
    }
   ],
   "source": [
    "df.info()"
   ]
  },
  {
   "cell_type": "markdown",
   "id": "935d36bb",
   "metadata": {},
   "source": [
    "Missing values"
   ]
  },
  {
   "cell_type": "code",
   "execution_count": 7,
   "id": "144407cb",
   "metadata": {},
   "outputs": [
    {
     "data": {
      "text/plain": [
       "Quantity               2\n",
       "Order_Priority         2\n",
       "Aging                  1\n",
       "Sales                  1\n",
       "Discount               1\n",
       "Shipping_Cost          1\n",
       "Order_Date             0\n",
       "Time                   0\n",
       "Customer_Id            0\n",
       "Gender                 0\n",
       "Device_Type            0\n",
       "Customer_Login_type    0\n",
       "Product_Category       0\n",
       "Product                0\n",
       "Profit                 0\n",
       "Payment_method         0\n",
       "dtype: int64"
      ]
     },
     "metadata": {},
     "output_type": "display_data"
    }
   ],
   "source": [
    "display(df.isnull().sum().sort_values(ascending=False).head(20))"
   ]
  },
  {
   "cell_type": "markdown",
   "id": "0809b55b",
   "metadata": {},
   "source": [
    "duplicate rows"
   ]
  },
  {
   "cell_type": "code",
   "execution_count": 8,
   "id": "141b8ae2",
   "metadata": {},
   "outputs": [
    {
     "name": "stdout",
     "output_type": "stream",
     "text": [
      "duplicate rows: 0\n"
     ]
    }
   ],
   "source": [
    "print(\"duplicate rows:\", df.duplicated().sum())"
   ]
  },
  {
   "cell_type": "code",
   "execution_count": 6,
   "id": "b5fddaa4",
   "metadata": {},
   "outputs": [
    {
     "data": {
      "text/html": [
       "<div>\n",
       "<style scoped>\n",
       "    .dataframe tbody tr th:only-of-type {\n",
       "        vertical-align: middle;\n",
       "    }\n",
       "\n",
       "    .dataframe tbody tr th {\n",
       "        vertical-align: top;\n",
       "    }\n",
       "\n",
       "    .dataframe thead th {\n",
       "        text-align: right;\n",
       "    }\n",
       "</style>\n",
       "<table border=\"1\" class=\"dataframe\">\n",
       "  <thead>\n",
       "    <tr style=\"text-align: right;\">\n",
       "      <th></th>\n",
       "      <th>Aging</th>\n",
       "      <th>Customer_Id</th>\n",
       "      <th>Sales</th>\n",
       "      <th>Quantity</th>\n",
       "      <th>Discount</th>\n",
       "      <th>Profit</th>\n",
       "      <th>Shipping_Cost</th>\n",
       "    </tr>\n",
       "  </thead>\n",
       "  <tbody>\n",
       "    <tr>\n",
       "      <th>count</th>\n",
       "      <td>51289.000000</td>\n",
       "      <td>51290.000000</td>\n",
       "      <td>51289.000000</td>\n",
       "      <td>51288.000000</td>\n",
       "      <td>51289.000000</td>\n",
       "      <td>51290.000000</td>\n",
       "      <td>51289.000000</td>\n",
       "    </tr>\n",
       "    <tr>\n",
       "      <th>mean</th>\n",
       "      <td>5.255035</td>\n",
       "      <td>58155.758764</td>\n",
       "      <td>152.340872</td>\n",
       "      <td>2.502983</td>\n",
       "      <td>0.303821</td>\n",
       "      <td>70.407226</td>\n",
       "      <td>7.041557</td>\n",
       "    </tr>\n",
       "    <tr>\n",
       "      <th>std</th>\n",
       "      <td>2.959948</td>\n",
       "      <td>26032.215826</td>\n",
       "      <td>66.495419</td>\n",
       "      <td>1.511859</td>\n",
       "      <td>0.131027</td>\n",
       "      <td>48.729488</td>\n",
       "      <td>4.871745</td>\n",
       "    </tr>\n",
       "    <tr>\n",
       "      <th>min</th>\n",
       "      <td>1.000000</td>\n",
       "      <td>10000.000000</td>\n",
       "      <td>33.000000</td>\n",
       "      <td>1.000000</td>\n",
       "      <td>0.100000</td>\n",
       "      <td>0.500000</td>\n",
       "      <td>0.100000</td>\n",
       "    </tr>\n",
       "    <tr>\n",
       "      <th>25%</th>\n",
       "      <td>3.000000</td>\n",
       "      <td>35831.250000</td>\n",
       "      <td>85.000000</td>\n",
       "      <td>1.000000</td>\n",
       "      <td>0.200000</td>\n",
       "      <td>24.900000</td>\n",
       "      <td>2.500000</td>\n",
       "    </tr>\n",
       "    <tr>\n",
       "      <th>50%</th>\n",
       "      <td>5.000000</td>\n",
       "      <td>61018.000000</td>\n",
       "      <td>133.000000</td>\n",
       "      <td>2.000000</td>\n",
       "      <td>0.300000</td>\n",
       "      <td>59.900000</td>\n",
       "      <td>6.000000</td>\n",
       "    </tr>\n",
       "    <tr>\n",
       "      <th>75%</th>\n",
       "      <td>8.000000</td>\n",
       "      <td>80736.250000</td>\n",
       "      <td>218.000000</td>\n",
       "      <td>4.000000</td>\n",
       "      <td>0.400000</td>\n",
       "      <td>118.400000</td>\n",
       "      <td>11.800000</td>\n",
       "    </tr>\n",
       "    <tr>\n",
       "      <th>max</th>\n",
       "      <td>10.500000</td>\n",
       "      <td>99999.000000</td>\n",
       "      <td>250.000000</td>\n",
       "      <td>5.000000</td>\n",
       "      <td>0.500000</td>\n",
       "      <td>167.500000</td>\n",
       "      <td>16.800000</td>\n",
       "    </tr>\n",
       "  </tbody>\n",
       "</table>\n",
       "</div>"
      ],
      "text/plain": [
       "              Aging   Customer_Id         Sales      Quantity      Discount  \\\n",
       "count  51289.000000  51290.000000  51289.000000  51288.000000  51289.000000   \n",
       "mean       5.255035  58155.758764    152.340872      2.502983      0.303821   \n",
       "std        2.959948  26032.215826     66.495419      1.511859      0.131027   \n",
       "min        1.000000  10000.000000     33.000000      1.000000      0.100000   \n",
       "25%        3.000000  35831.250000     85.000000      1.000000      0.200000   \n",
       "50%        5.000000  61018.000000    133.000000      2.000000      0.300000   \n",
       "75%        8.000000  80736.250000    218.000000      4.000000      0.400000   \n",
       "max       10.500000  99999.000000    250.000000      5.000000      0.500000   \n",
       "\n",
       "             Profit  Shipping_Cost  \n",
       "count  51290.000000   51289.000000  \n",
       "mean      70.407226       7.041557  \n",
       "std       48.729488       4.871745  \n",
       "min        0.500000       0.100000  \n",
       "25%       24.900000       2.500000  \n",
       "50%       59.900000       6.000000  \n",
       "75%      118.400000      11.800000  \n",
       "max      167.500000      16.800000  "
      ]
     },
     "execution_count": 6,
     "metadata": {},
     "output_type": "execute_result"
    }
   ],
   "source": [
    "df.describe()"
   ]
  },
  {
   "cell_type": "markdown",
   "id": "a264f9c0",
   "metadata": {},
   "source": [
    "data cleaning"
   ]
  },
  {
   "cell_type": "markdown",
   "id": "5bdf695f",
   "metadata": {},
   "source": [
    "for missing values- imputation\n"
   ]
  },
  {
   "cell_type": "code",
   "execution_count": 10,
   "id": "e322e1ad",
   "metadata": {},
   "outputs": [],
   "source": [
    "num_cols = ['Aging', 'Sales', 'Quantity', 'Discount', 'Shipping_Cost']\n",
    "df[num_cols] = df[num_cols].fillna(df[num_cols].median())\n",
    "cat_cols = ['Order_Priority']\n",
    "df[cat_cols] = df[cat_cols].fillna(df[cat_cols].mode().iloc[0])"
   ]
  },
  {
   "cell_type": "markdown",
   "id": "58305ac2",
   "metadata": {},
   "source": [
    "Convert date and time columns"
   ]
  },
  {
   "cell_type": "code",
   "execution_count": 11,
   "id": "fc7f7a49",
   "metadata": {},
   "outputs": [],
   "source": [
    "df['Order_Date'] = pd.to_datetime(df['Order_Date'], errors='coerce')\n",
    "df['Time'] = pd.to_datetime(df['Time'], format='%H:%M:%S', errors='coerce').dt.time"
   ]
  },
  {
   "cell_type": "markdown",
   "id": "d17d6b85",
   "metadata": {},
   "source": [
    "Feature Engineering"
   ]
  },
  {
   "cell_type": "code",
   "execution_count": 13,
   "id": "fdf40b2f",
   "metadata": {},
   "outputs": [
    {
     "data": {
      "text/html": [
       "<div>\n",
       "<style scoped>\n",
       "    .dataframe tbody tr th:only-of-type {\n",
       "        vertical-align: middle;\n",
       "    }\n",
       "\n",
       "    .dataframe tbody tr th {\n",
       "        vertical-align: top;\n",
       "    }\n",
       "\n",
       "    .dataframe thead th {\n",
       "        text-align: right;\n",
       "    }\n",
       "</style>\n",
       "<table border=\"1\" class=\"dataframe\">\n",
       "  <thead>\n",
       "    <tr style=\"text-align: right;\">\n",
       "      <th></th>\n",
       "      <th>Order_Date</th>\n",
       "      <th>Time</th>\n",
       "      <th>DayOfWeek</th>\n",
       "      <th>TimeOfDay</th>\n",
       "      <th>Month</th>\n",
       "      <th>Year</th>\n",
       "    </tr>\n",
       "  </thead>\n",
       "  <tbody>\n",
       "    <tr>\n",
       "      <th>0</th>\n",
       "      <td>2018-01-02</td>\n",
       "      <td>10:56:33</td>\n",
       "      <td>Tuesday</td>\n",
       "      <td>Morning</td>\n",
       "      <td>1</td>\n",
       "      <td>2018</td>\n",
       "    </tr>\n",
       "    <tr>\n",
       "      <th>1</th>\n",
       "      <td>2018-07-24</td>\n",
       "      <td>20:41:37</td>\n",
       "      <td>Tuesday</td>\n",
       "      <td>Evening</td>\n",
       "      <td>7</td>\n",
       "      <td>2018</td>\n",
       "    </tr>\n",
       "    <tr>\n",
       "      <th>2</th>\n",
       "      <td>2018-11-08</td>\n",
       "      <td>08:38:49</td>\n",
       "      <td>Thursday</td>\n",
       "      <td>Morning</td>\n",
       "      <td>11</td>\n",
       "      <td>2018</td>\n",
       "    </tr>\n",
       "    <tr>\n",
       "      <th>3</th>\n",
       "      <td>2018-04-18</td>\n",
       "      <td>19:28:06</td>\n",
       "      <td>Wednesday</td>\n",
       "      <td>Evening</td>\n",
       "      <td>4</td>\n",
       "      <td>2018</td>\n",
       "    </tr>\n",
       "    <tr>\n",
       "      <th>4</th>\n",
       "      <td>2018-08-13</td>\n",
       "      <td>21:18:39</td>\n",
       "      <td>Monday</td>\n",
       "      <td>Night</td>\n",
       "      <td>8</td>\n",
       "      <td>2018</td>\n",
       "    </tr>\n",
       "  </tbody>\n",
       "</table>\n",
       "</div>"
      ],
      "text/plain": [
       "  Order_Date      Time  DayOfWeek TimeOfDay  Month  Year\n",
       "0 2018-01-02  10:56:33    Tuesday   Morning      1  2018\n",
       "1 2018-07-24  20:41:37    Tuesday   Evening      7  2018\n",
       "2 2018-11-08  08:38:49   Thursday   Morning     11  2018\n",
       "3 2018-04-18  19:28:06  Wednesday   Evening      4  2018\n",
       "4 2018-08-13  21:18:39     Monday     Night      8  2018"
      ]
     },
     "execution_count": 13,
     "metadata": {},
     "output_type": "execute_result"
    }
   ],
   "source": [
    "df['Year'] = df['Order_Date'].dt.year\n",
    "df['Month'] = df['Order_Date'].dt.month\n",
    "df['Day'] = df['Order_Date'].dt.day\n",
    "df['DayOfWeek'] = df['Order_Date'].dt.day_name()\n",
    "\n",
    "def get_time_of_day(t):\n",
    "    if t is None or pd.isna(t):\n",
    "        return np.nan\n",
    "    hour = t.hour\n",
    "    if 5 <= hour < 12:\n",
    "        return 'Morning'\n",
    "    elif 12 <= hour < 17:\n",
    "        return 'Afternoon'\n",
    "    elif 17 <= hour < 21:\n",
    "        return 'Evening'\n",
    "    else:\n",
    "        return 'Night'\n",
    "\n",
    "df['TimeOfDay'] = df['Time'].apply(get_time_of_day)\n",
    "\n",
    "df[['Order_Date', 'Time', 'DayOfWeek', 'TimeOfDay', 'Month', 'Year']].head()"
   ]
  }
 ],
 "metadata": {
  "kernelspec": {
   "display_name": "Python (rag_env)",
   "language": "python",
   "name": "rag_env"
  },
  "language_info": {
   "codemirror_mode": {
    "name": "ipython",
    "version": 3
   },
   "file_extension": ".py",
   "mimetype": "text/x-python",
   "name": "python",
   "nbconvert_exporter": "python",
   "pygments_lexer": "ipython3",
   "version": "3.11.4"
  }
 },
 "nbformat": 4,
 "nbformat_minor": 5
}
