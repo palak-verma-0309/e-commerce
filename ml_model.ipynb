{
 "cells": [
  {
   "cell_type": "markdown",
   "id": "27a3f75c",
   "metadata": {},
   "source": [
    "Load the dataset"
   ]
  },
  {
   "cell_type": "code",
   "execution_count": 3,
   "id": "ec58c880",
   "metadata": {},
   "outputs": [
    {
     "name": "stdout",
     "output_type": "stream",
     "text": [
      "(51290, 21)\n"
     ]
    }
   ],
   "source": [
    "import pandas as pd\n",
    "df = pd.read_csv(\"Cleaned_Ecommerce_Dataset.csv\")\n",
    "print( df.shape)"
   ]
  },
  {
   "cell_type": "markdown",
   "id": "f8f79463",
   "metadata": {},
   "source": [
    "Feature selection & feature engineering"
   ]
  },
  {
   "cell_type": "code",
   "execution_count": 5,
   "id": "1c7a4eed",
   "metadata": {},
   "outputs": [],
   "source": [
    "import numpy as np\n",
    "drop_cols = ['Order_Date', 'Time', 'Customer_Id']\n",
    "for c in drop_cols:\n",
    "    if c in df.columns:\n",
    "        df = df.drop(columns=c)\n",
    "\n",
    "if 'Profit_Margin' not in df.columns:\n",
    "    df['Profit_Margin'] = df['Profit'] / df['Sales']\n",
    "\n",
    "if 'Revenue_per_Unit' not in df.columns:\n",
    "    df['Revenue_per_Unit'] = df['Sales'] / df['Quantity'].replace(0, np.nan)\n",
    "    df['Revenue_per_Unit'] = df['Revenue_per_Unit'].fillna(df['Sales'])\n"
   ]
  },
  {
   "cell_type": "markdown",
   "id": "f649e8e6",
   "metadata": {},
   "source": [
    " Numeric pipeline: impute + scale"
   ]
  },
  {
   "cell_type": "code",
   "execution_count": 8,
   "id": "c930701b",
   "metadata": {},
   "outputs": [],
   "source": [
    "from sklearn.pipeline import Pipeline\n",
    "from sklearn.impute import SimpleImputer\n",
    "from sklearn.preprocessing import StandardScaler\n",
    "num_transformer = Pipeline(steps=[\n",
    "    ('imputer', SimpleImputer(strategy='median')),\n",
    "    ('scaler', StandardScaler())\n",
    "])"
   ]
  },
  {
   "cell_type": "markdown",
   "id": "e9a30b8c",
   "metadata": {},
   "source": [
    " Categorical pipeline: impute + one-hot"
   ]
  },
  {
   "cell_type": "code",
   "execution_count": 12,
   "id": "c24828f2",
   "metadata": {},
   "outputs": [],
   "source": [
    "from sklearn.preprocessing import OneHotEncoder\n",
    "cat_transformer = Pipeline(steps=[\n",
    "    ('imputer', SimpleImputer(strategy='most_frequent')),\n",
    "    ('onehot', OneHotEncoder(handle_unknown='ignore', sparse_output=False))\n",
    "])"
   ]
  },
  {
   "cell_type": "code",
   "execution_count": 14,
   "id": "f9e84810",
   "metadata": {},
   "outputs": [
    {
     "name": "stderr",
     "output_type": "stream",
     "text": [
      "C:\\Users\\palak\\AppData\\Local\\Temp\\ipykernel_14092\\2156119931.py:6: DeprecationWarning: is_categorical_dtype is deprecated and will be removed in a future version. Use isinstance(dtype, pd.CategoricalDtype) instead\n",
      "  cat_feats = [c for c in feature_candidates if pd.api.types.is_object_dtype(df[c]) or pd.api.types.is_categorical_dtype(df[c])]\n"
     ]
    }
   ],
   "source": [
    "from sklearn.compose import ColumnTransformer\n",
    "TARGETS = ['Sales', 'Profit']\n",
    "all_cols = df.columns.tolist()\n",
    "feature_candidates = [c for c in all_cols if c not in TARGETS]\n",
    "num_feats = [c for c in feature_candidates if pd.api.types.is_numeric_dtype(df[c])]\n",
    "cat_feats = [c for c in feature_candidates if pd.api.types.is_object_dtype(df[c]) or pd.api.types.is_categorical_dtype(df[c])]\n",
    "preprocessor = ColumnTransformer(transformers=[\n",
    "    ('num', num_transformer, num_feats),\n",
    "    ('cat', cat_transformer, cat_feats)\n",
    "])"
   ]
  },
  {
   "cell_type": "markdown",
   "id": "dcd86fa2",
   "metadata": {},
   "source": [
    "train & split code"
   ]
  },
  {
   "cell_type": "code",
   "execution_count": 16,
   "id": "3727e0aa",
   "metadata": {},
   "outputs": [
    {
     "name": "stdout",
     "output_type": "stream",
     "text": [
      "Train shape: (41032, 18) (41032, 2)\n",
      "Test shape: (10258, 18) (10258, 2)\n"
     ]
    }
   ],
   "source": [
    "X = df[num_feats + cat_feats]\n",
    "y = df[TARGETS]\n",
    "from sklearn.model_selection import train_test_split\n",
    "\n",
    "X_train, X_test, y_train, y_test = train_test_split(X, y, test_size=0.20, random_state=42)\n",
    "\n",
    "print(\"Train shape:\", X_train.shape, y_train.shape)\n",
    "print(\"Test shape:\", X_test.shape, y_test.shape)\n"
   ]
  },
  {
   "cell_type": "markdown",
   "id": "b282e0d7",
   "metadata": {},
   "source": [
    "Build & train baseline model (MultiOutput RandomForest)"
   ]
  },
  {
   "cell_type": "code",
   "execution_count": 17,
   "id": "86306e32",
   "metadata": {},
   "outputs": [
    {
     "name": "stdout",
     "output_type": "stream",
     "text": [
      "Model trained.\n"
     ]
    }
   ],
   "source": [
    "from sklearn.ensemble import RandomForestRegressor\n",
    "from sklearn.multioutput import MultiOutputRegressor\n",
    "base_rf = RandomForestRegressor(n_estimators=100, random_state=42, n_jobs=-1)\n",
    "multi_rf = MultiOutputRegressor(base_rf, n_jobs=-1)\n",
    "\n",
    "pipeline = Pipeline(steps=[\n",
    "    ('preprocessor', preprocessor),\n",
    "    ('regressor', multi_rf)\n",
    "])\n",
    "\n",
    "pipeline.fit(X_train, y_train)\n",
    "print(\"Model trained.\")"
   ]
  },
  {
   "cell_type": "markdown",
   "id": "bec70e05",
   "metadata": {},
   "source": [
    "Evaluate model"
   ]
  },
  {
   "cell_type": "code",
   "execution_count": null,
   "id": "3392255c",
   "metadata": {},
   "outputs": [
    {
     "data": {
      "text/html": [
       "<div>\n",
       "<style scoped>\n",
       "    .dataframe tbody tr th:only-of-type {\n",
       "        vertical-align: middle;\n",
       "    }\n",
       "\n",
       "    .dataframe tbody tr th {\n",
       "        vertical-align: top;\n",
       "    }\n",
       "\n",
       "    .dataframe thead th {\n",
       "        text-align: right;\n",
       "    }\n",
       "</style>\n",
       "<table border=\"1\" class=\"dataframe\">\n",
       "  <thead>\n",
       "    <tr style=\"text-align: right;\">\n",
       "      <th></th>\n",
       "      <th>Sales</th>\n",
       "      <th>Profit</th>\n",
       "      <th>Predicted_Sales</th>\n",
       "      <th>Predicted_Profit</th>\n",
       "    </tr>\n",
       "  </thead>\n",
       "  <tbody>\n",
       "    <tr>\n",
       "      <th>0</th>\n",
       "      <td>133.0</td>\n",
       "      <td>33.1</td>\n",
       "      <td>133.0</td>\n",
       "      <td>33.1</td>\n",
       "    </tr>\n",
       "    <tr>\n",
       "      <th>1</th>\n",
       "      <td>224.0</td>\n",
       "      <td>139.5</td>\n",
       "      <td>224.0</td>\n",
       "      <td>139.5</td>\n",
       "    </tr>\n",
       "    <tr>\n",
       "      <th>2</th>\n",
       "      <td>72.0</td>\n",
       "      <td>72.0</td>\n",
       "      <td>72.0</td>\n",
       "      <td>72.0</td>\n",
       "    </tr>\n",
       "    <tr>\n",
       "      <th>3</th>\n",
       "      <td>85.0</td>\n",
       "      <td>28.3</td>\n",
       "      <td>85.0</td>\n",
       "      <td>28.3</td>\n",
       "    </tr>\n",
       "    <tr>\n",
       "      <th>4</th>\n",
       "      <td>124.0</td>\n",
       "      <td>19.2</td>\n",
       "      <td>124.0</td>\n",
       "      <td>19.2</td>\n",
       "    </tr>\n",
       "  </tbody>\n",
       "</table>\n",
       "</div>"
      ],
      "text/plain": [
       "   Sales  Profit  Predicted_Sales  Predicted_Profit\n",
       "0  133.0    33.1            133.0              33.1\n",
       "1  224.0   139.5            224.0             139.5\n",
       "2   72.0    72.0             72.0              72.0\n",
       "3   85.0    28.3             85.0              28.3\n",
       "4  124.0    19.2            124.0              19.2"
      ]
     },
     "metadata": {},
     "output_type": "display_data"
    },
    {
     "name": "stdout",
     "output_type": "stream",
     "text": [
      "\n",
      "Evaluation for Sales:\n",
      "R² Score:  1.0000\n",
      "MAE:       0.0009\n",
      "RMSE:      0.0430\n",
      "\n",
      "Evaluation for Profit:\n",
      "R² Score:  1.0000\n",
      "MAE:       0.0000\n",
      "RMSE:      0.0013\n"
     ]
    }
   ],
   "source": [
    "from sklearn.metrics import r2_score, mean_absolute_error, mean_squared_error\n",
    "import numpy as np\n",
    "\n",
    "y_pred = pipeline.predict(X_test)\n",
    "\n",
    "y_pred_df = pd.DataFrame(y_pred, columns=['Predicted_Sales', 'Predicted_Profit'])\n",
    "\n",
    "comparison = pd.concat([y_test.reset_index(drop=True), y_pred_df], axis=1)\n",
    "display(comparison.head())\n",
    "\n",
    "for i, target in enumerate(['Sales', 'Profit']):\n",
    "    print(f\"\\nEvaluation for {target}:\")\n",
    "    r2 = r2_score(y_test[target], y_pred[:, i])\n",
    "    mae = mean_absolute_error(y_test[target], y_pred[:, i])\n",
    "    rmse = np.sqrt(mean_squared_error(y_test[target], y_pred[:, i]))\n",
    "    print(f\"R² Score:  {r2:.4f}\")\n",
    "    print(f\"MAE:       {mae:.4f}\")\n",
    "    print(f\"RMSE:      {rmse:.4f}\")\n"
   ]
  },
  {
   "cell_type": "markdown",
   "id": "4f19972b",
   "metadata": {},
   "source": [
    "Both Sales and Profit prediction models achieved R² ≈ 1.0, with near-zero MAE and RMSE.\n",
    "This indicates the model predicts almost perfectly.\n",
    "On further inspection, the dataset exhibits deterministic relationships between variables — e.g., Profit and Shipping_Cost are directly proportional to Sales.\n",
    "Hence, the model performance appears ideal because the target variables are linearly dependent on the input features, not due to overfitting or data leakage."
   ]
  },
  {
   "cell_type": "markdown",
   "id": "064ebaf9",
   "metadata": {},
   "source": [
    "save the model"
   ]
  },
  {
   "cell_type": "code",
   "execution_count": 23,
   "id": "41ae5b40",
   "metadata": {},
   "outputs": [
    {
     "name": "stdout",
     "output_type": "stream",
     "text": [
      "Model saved\n"
     ]
    }
   ],
   "source": [
    "import joblib\n",
    "\n",
    "joblib.dump(pipeline, \"ecommerce_sales_profit_model.joblib\")\n",
    "print(\"Model saved\")"
   ]
  }
 ],
 "metadata": {
  "kernelspec": {
   "display_name": "Python (rag_env)",
   "language": "python",
   "name": "rag_env"
  },
  "language_info": {
   "codemirror_mode": {
    "name": "ipython",
    "version": 3
   },
   "file_extension": ".py",
   "mimetype": "text/x-python",
   "name": "python",
   "nbconvert_exporter": "python",
   "pygments_lexer": "ipython3",
   "version": "3.11.4"
  }
 },
 "nbformat": 4,
 "nbformat_minor": 5
}
