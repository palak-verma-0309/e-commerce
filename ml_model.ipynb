{
 "cells": [
  {
   "cell_type": "markdown",
   "id": "27a3f75c",
   "metadata": {},
   "source": [
    "Load the dataset"
   ]
  },
  {
   "cell_type": "code",
   "execution_count": 3,
   "id": "ec58c880",
   "metadata": {},
   "outputs": [
    {
     "name": "stdout",
     "output_type": "stream",
     "text": [
      "(51290, 21)\n"
     ]
    }
   ],
   "source": [
    "import pandas as pd\n",
    "df = pd.read_csv(\"Cleaned_Ecommerce_Dataset.csv\")\n",
    "print( df.shape)"
   ]
  },
  {
   "cell_type": "markdown",
   "id": "f8f79463",
   "metadata": {},
   "source": [
    "Feature selection & feature engineering"
   ]
  },
  {
   "cell_type": "code",
   "execution_count": 5,
   "id": "1c7a4eed",
   "metadata": {},
   "outputs": [],
   "source": [
    "import numpy as np\n",
    "drop_cols = ['Order_Date', 'Time', 'Customer_Id']\n",
    "for c in drop_cols:\n",
    "    if c in df.columns:\n",
    "        df = df.drop(columns=c)\n",
    "\n",
    "if 'Profit_Margin' not in df.columns:\n",
    "    df['Profit_Margin'] = df['Profit'] / df['Sales']\n",
    "\n",
    "if 'Revenue_per_Unit' not in df.columns:\n",
    "    df['Revenue_per_Unit'] = df['Sales'] / df['Quantity'].replace(0, np.nan)\n",
    "    df['Revenue_per_Unit'] = df['Revenue_per_Unit'].fillna(df['Sales'])\n"
   ]
  },
  {
   "cell_type": "markdown",
   "id": "f649e8e6",
   "metadata": {},
   "source": [
    " Numeric pipeline: impute + scale"
   ]
  },
  {
   "cell_type": "code",
   "execution_count": 8,
   "id": "c930701b",
   "metadata": {},
   "outputs": [],
   "source": [
    "from sklearn.pipeline import Pipeline\n",
    "from sklearn.impute import SimpleImputer\n",
    "from sklearn.preprocessing import StandardScaler\n",
    "num_transformer = Pipeline(steps=[\n",
    "    ('imputer', SimpleImputer(strategy='median')),\n",
    "    ('scaler', StandardScaler())\n",
    "])"
   ]
  },
  {
   "cell_type": "markdown",
   "id": "e9a30b8c",
   "metadata": {},
   "source": [
    " Categorical pipeline: impute + one-hot"
   ]
  },
  {
   "cell_type": "code",
   "execution_count": 12,
   "id": "c24828f2",
   "metadata": {},
   "outputs": [],
   "source": [
    "from sklearn.preprocessing import OneHotEncoder\n",
    "cat_transformer = Pipeline(steps=[\n",
    "    ('imputer', SimpleImputer(strategy='most_frequent')),\n",
    "    ('onehot', OneHotEncoder(handle_unknown='ignore', sparse_output=False))\n",
    "])"
   ]
  },
  {
   "cell_type": "code",
   "execution_count": 14,
   "id": "f9e84810",
   "metadata": {},
   "outputs": [
    {
     "name": "stderr",
     "output_type": "stream",
     "text": [
      "C:\\Users\\palak\\AppData\\Local\\Temp\\ipykernel_14092\\2156119931.py:6: DeprecationWarning: is_categorical_dtype is deprecated and will be removed in a future version. Use isinstance(dtype, pd.CategoricalDtype) instead\n",
      "  cat_feats = [c for c in feature_candidates if pd.api.types.is_object_dtype(df[c]) or pd.api.types.is_categorical_dtype(df[c])]\n"
     ]
    }
   ],
   "source": [
    "from sklearn.compose import ColumnTransformer\n",
    "TARGETS = ['Sales', 'Profit']\n",
    "all_cols = df.columns.tolist()\n",
    "feature_candidates = [c for c in all_cols if c not in TARGETS]\n",
    "num_feats = [c for c in feature_candidates if pd.api.types.is_numeric_dtype(df[c])]\n",
    "cat_feats = [c for c in feature_candidates if pd.api.types.is_object_dtype(df[c]) or pd.api.types.is_categorical_dtype(df[c])]\n",
    "preprocessor = ColumnTransformer(transformers=[\n",
    "    ('num', num_transformer, num_feats),\n",
    "    ('cat', cat_transformer, cat_feats)\n",
    "])"
   ]
  },
  {
   "cell_type": "markdown",
   "id": "dcd86fa2",
   "metadata": {},
   "source": [
    "train & split code"
   ]
  },
  {
   "cell_type": "code",
   "execution_count": 16,
   "id": "3727e0aa",
   "metadata": {},
   "outputs": [
    {
     "name": "stdout",
     "output_type": "stream",
     "text": [
      "Train shape: (41032, 18) (41032, 2)\n",
      "Test shape: (10258, 18) (10258, 2)\n"
     ]
    }
   ],
   "source": [
    "X = df[num_feats + cat_feats]\n",
    "y = df[TARGETS]\n",
    "from sklearn.model_selection import train_test_split\n",
    "\n",
    "X_train, X_test, y_train, y_test = train_test_split(X, y, test_size=0.20, random_state=42)\n",
    "\n",
    "print(\"Train shape:\", X_train.shape, y_train.shape)\n",
    "print(\"Test shape:\", X_test.shape, y_test.shape)\n"
   ]
  }
 ],
 "metadata": {
  "kernelspec": {
   "display_name": "Python (rag_env)",
   "language": "python",
   "name": "rag_env"
  },
  "language_info": {
   "codemirror_mode": {
    "name": "ipython",
    "version": 3
   },
   "file_extension": ".py",
   "mimetype": "text/x-python",
   "name": "python",
   "nbconvert_exporter": "python",
   "pygments_lexer": "ipython3",
   "version": "3.11.4"
  }
 },
 "nbformat": 4,
 "nbformat_minor": 5
}
